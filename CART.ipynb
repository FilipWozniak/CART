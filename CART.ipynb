{
 "cells": [
  {
   "cell_type": "code",
   "execution_count": 5,
   "metadata": {},
   "outputs": [],
   "source": [
    "from sklearn.datasets import load_iris\n",
    "import numpy as np"
   ]
  },
  {
   "cell_type": "code",
   "execution_count": 6,
   "metadata": {},
   "outputs": [],
   "source": [
    "class Node:\n",
    "    def __init__(self, predicted_class):\n",
    "        self.predicted_class = predicted_class\n",
    "        self.left = None\n",
    "        self.right = None\n",
    "        self.feature_index = 0\n",
    "        self.threshold = 0"
   ]
  },
  {
   "cell_type": "code",
   "execution_count": 7,
   "metadata": {},
   "outputs": [],
   "source": [
    "class PJ_Cart_Tree:\n",
    "    def __init__(self, max_depth, acceptable_impurity):\n",
    "        self.max_depth = max_depth\n",
    "        self.acceptable_impurity = acceptable_impurity\n",
    "        \n",
    "    def predict(self, inputs):\n",
    "        current_node = self.tree\n",
    "        while current_node.left:\n",
    "            if inputs[current_node.feature_index] < current_node.threshold:\n",
    "                current_node = current_node.left\n",
    "            else:\n",
    "                current_node = current_node.right\n",
    "        return current_node.predicted_class\n",
    "        \n",
    "    def fit(self, x, y):\n",
    "        self.classifications = len(set(y))\n",
    "        self.features = x.shape[1]\n",
    "        self.tree = self.create_tree(x, y)\n",
    "        \n",
    "    def gini_impurity(y):\n",
    "        instances = np.bincount(y)\n",
    "        total = np.sum(instances)\n",
    "        p = instances/total\n",
    "        return 1.0 - np.sum(np.power(p,2)) \n",
    "        \n",
    "    def cart_split(self, x, y):\n",
    "        m = y.size\n",
    "        if m <= 1:\n",
    "            return None, None\n",
    "        best_index = None\n",
    "        best_threshold = None\n",
    "        parent = [np.sum(y == c) for c in range(self.classifications)]\n",
    "        best_gini = 1.0 - sum((n / m) ** 2 for n in parent)\n",
    "\n",
    "        if best_gini >= self.acceptable_impurity:\n",
    "            for index in range(self.features):\n",
    "                thresholds, classes = zip(*sorted(zip(x[:, index], y)))\n",
    "                num_left = [0] * self.classifications\n",
    "                num_right = parent.copy()\n",
    "                for i in range(1, m):\n",
    "                    c = classes[i - 1]\n",
    "                    num_left[c] += 1\n",
    "                    num_right[c] -= 1\n",
    "                    gini_left = 1.0 - sum((num_left[x] / i) ** 2 for x in range(self.classifications))\n",
    "                    gini_right = 1.0 - sum((num_right[x] / (m - i)) ** 2 for x in range(self.classifications))\n",
    "                    gini = (i * gini_left + (m - i) * gini_right) / m\n",
    "                    if thresholds[i] == thresholds[i - 1]:\n",
    "                        continue\n",
    "                    if gini < best_gini:\n",
    "                        best_gini = gini\n",
    "                        best_index = index\n",
    "                        best_threshold = (thresholds[i] + thresholds[i - 1]) / 2\n",
    "        return best_index, best_threshold\n",
    "    \n",
    "    def create_tree(self, x, y, depth=0):\n",
    "        samples_class = [np.sum(y == i) for i in range(self.classifications)]\n",
    "        predicted_class = np.argmax(samples_class)\n",
    "        node = Node(predicted_class=predicted_class)\n",
    "        if depth < self.max_depth:\n",
    "            index, thr = self.cart_split(x, y)\n",
    "            if index is not None:\n",
    "                indices_left = x[:, index] < thr\n",
    "                x_left = x[indices_left]\n",
    "                y_left = y[indices_left]\n",
    "                x_right = x[~indices_left]\n",
    "                y_right = y[~indices_left]\n",
    "                node.feature_index = index\n",
    "                node.threshold = thr\n",
    "                node.left = self.create_tree(x_left, y_left, depth + 1)\n",
    "                node.right = self.create_tree(x_right, y_right, depth + 1)\n",
    "        return node"
   ]
  },
  {
   "cell_type": "code",
   "execution_count": 8,
   "metadata": {},
   "outputs": [
    {
     "name": "stdout",
     "output_type": "stream",
     "text": [
      "[5.  3.6 1.4 0.2]\n",
      "Classified as setosa\n"
     ]
    }
   ],
   "source": [
    "iris = load_iris()\n",
    "tree = PJ_Cart_Tree(max_depth=4, acceptable_impurity=0.2)\n",
    "tree.fit(iris.data, iris.target)\n",
    "print(iris.data[4])\n",
    "cl = tree.predict(iris.data[4])\n",
    "print('Classified as {}'.format(iris.target_names[cl]))"
   ]
  }
 ],
 "metadata": {
  "kernelspec": {
   "display_name": "Python 3",
   "language": "python",
   "name": "python3"
  },
  "language_info": {
   "codemirror_mode": {
    "name": "ipython",
    "version": 3
   },
   "file_extension": ".py",
   "mimetype": "text/x-python",
   "name": "python",
   "nbconvert_exporter": "python",
   "pygments_lexer": "ipython3",
   "version": "3.7.6"
  }
 },
 "nbformat": 4,
 "nbformat_minor": 4
}
